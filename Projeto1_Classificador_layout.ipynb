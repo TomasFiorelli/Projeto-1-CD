{
 "cells": [
  {
   "cell_type": "markdown",
   "metadata": {},
   "source": [
    "# Projeto 1 - Ciência dos Dados"
   ]
  },
  {
   "cell_type": "markdown",
   "metadata": {},
   "source": [
    "Nome: Fabrizio Stresser Milan\n",
    "\n",
    "Nome: Tomás Fiorelli Barbosa"
   ]
  },
  {
   "cell_type": "markdown",
   "metadata": {},
   "source": [
    "**Atenção:** Serão permitidos grupos de três pessoas, mas com uma rubrica mais exigente. Grupos deste tamanho precisarão fazer um questionário de avaliação de trabalho em equipe"
   ]
  },
  {
   "cell_type": "markdown",
   "metadata": {},
   "source": [
    "___\n",
    "Carregando algumas bibliotecas:"
   ]
  },
  {
   "cell_type": "code",
   "execution_count": 38,
   "metadata": {},
   "outputs": [],
   "source": [
    "%matplotlib inline\n",
    "import pandas as pd\n",
    "import matplotlib.pyplot as plt\n",
    "import numpy as np\n",
    "import os\n",
    "from nltk.tokenize import TweetTokenizer"
   ]
  },
  {
   "cell_type": "markdown",
   "metadata": {},
   "source": [
    "**Em `filename`, coloque o nome do seu arquivo de dados!**"
   ]
  },
  {
   "cell_type": "code",
   "execution_count": 39,
   "metadata": {
    "scrolled": false
   },
   "outputs": [
    {
     "name": "stdout",
     "output_type": "stream",
     "text": [
      "Encontrei o arquivo Cyberpunk 2077.xlsx, tudo certo para prosseguir com a prova!\n"
     ]
    }
   ],
   "source": [
    "filename = 'Cyberpunk 2077.xlsx'\n",
    "if filename in os.listdir():\n",
    "    print(f'Encontrei o arquivo {filename}, tudo certo para prosseguir com a prova!')\n",
    "else:\n",
    "    print(f'Não encontrei o arquivo {filename} aqui no diretório {os.getcwd()}, será que você não baixou o arquivo?')"
   ]
  },
  {
   "cell_type": "markdown",
   "metadata": {},
   "source": [
    "Carregando a base de dados com os tweets classificados como relevantes e não relevantes:"
   ]
  },
  {
   "cell_type": "code",
   "execution_count": 40,
   "metadata": {},
   "outputs": [
    {
     "data": {
      "text/html": [
       "<div>\n",
       "<style scoped>\n",
       "    .dataframe tbody tr th:only-of-type {\n",
       "        vertical-align: middle;\n",
       "    }\n",
       "\n",
       "    .dataframe tbody tr th {\n",
       "        vertical-align: top;\n",
       "    }\n",
       "\n",
       "    .dataframe thead th {\n",
       "        text-align: right;\n",
       "    }\n",
       "</style>\n",
       "<table border=\"1\" class=\"dataframe\">\n",
       "  <thead>\n",
       "    <tr style=\"text-align: right;\">\n",
       "      <th></th>\n",
       "      <th>Treinamento</th>\n",
       "      <th>Classificador de tweets</th>\n",
       "    </tr>\n",
       "  </thead>\n",
       "  <tbody>\n",
       "    <tr>\n",
       "      <td>0</td>\n",
       "      <td>@alexia_rks alexia caralho\\namei demais mano t...</td>\n",
       "      <td>0</td>\n",
       "    </tr>\n",
       "    <tr>\n",
       "      <td>1</td>\n",
       "      <td>muitos vídeos massas da @superkikachu pra mim ...</td>\n",
       "      <td>1</td>\n",
       "    </tr>\n",
       "    <tr>\n",
       "      <td>2</td>\n",
       "      <td>cyberpunk so vai sair em 2077 mesmo ne</td>\n",
       "      <td>0</td>\n",
       "    </tr>\n",
       "    <tr>\n",
       "      <td>3</td>\n",
       "      <td>cyberpunk 2077 vai causar um impacto monumenta...</td>\n",
       "      <td>1</td>\n",
       "    </tr>\n",
       "    <tr>\n",
       "      <td>4</td>\n",
       "      <td>bem agora e so segurar as pontas ate novembro ...</td>\n",
       "      <td>1</td>\n",
       "    </tr>\n",
       "  </tbody>\n",
       "</table>\n",
       "</div>"
      ],
      "text/plain": [
       "                                         Treinamento  Classificador de tweets\n",
       "0  @alexia_rks alexia caralho\\namei demais mano t...                        0\n",
       "1  muitos vídeos massas da @superkikachu pra mim ...                        1\n",
       "2             cyberpunk so vai sair em 2077 mesmo ne                        0\n",
       "3  cyberpunk 2077 vai causar um impacto monumenta...                        1\n",
       "4  bem agora e so segurar as pontas ate novembro ...                        1"
      ]
     },
     "execution_count": 40,
     "metadata": {},
     "output_type": "execute_result"
    }
   ],
   "source": [
    "train = pd.read_excel(filename)\n",
    "train.head(5)"
   ]
  },
  {
   "cell_type": "code",
   "execution_count": 41,
   "metadata": {},
   "outputs": [
    {
     "data": {
      "text/html": [
       "<div>\n",
       "<style scoped>\n",
       "    .dataframe tbody tr th:only-of-type {\n",
       "        vertical-align: middle;\n",
       "    }\n",
       "\n",
       "    .dataframe tbody tr th {\n",
       "        vertical-align: top;\n",
       "    }\n",
       "\n",
       "    .dataframe thead th {\n",
       "        text-align: right;\n",
       "    }\n",
       "</style>\n",
       "<table border=\"1\" class=\"dataframe\">\n",
       "  <thead>\n",
       "    <tr style=\"text-align: right;\">\n",
       "      <th></th>\n",
       "      <th>Teste</th>\n",
       "      <th>Classificação Manual</th>\n",
       "    </tr>\n",
       "  </thead>\n",
       "  <tbody>\n",
       "    <tr>\n",
       "      <td>0</td>\n",
       "      <td>#voxelart rt @voxeloficial: desenvolvedores de...</td>\n",
       "      <td>1</td>\n",
       "    </tr>\n",
       "    <tr>\n",
       "      <td>1</td>\n",
       "      <td>@sonicuzin não, cyberpunk vai lançar em 2077 ó...</td>\n",
       "      <td>0</td>\n",
       "    </tr>\n",
       "    <tr>\n",
       "      <td>2</td>\n",
       "      <td>rt @cpfuturosombrio: quando falamos que cyberp...</td>\n",
       "      <td>1</td>\n",
       "    </tr>\n",
       "    <tr>\n",
       "      <td>3</td>\n",
       "      <td>rt @alexzitoooo: graças a deus vou jogar o cyb...</td>\n",
       "      <td>1</td>\n",
       "    </tr>\n",
       "    <tr>\n",
       "      <td>4</td>\n",
       "      <td>acho que só vou esperar mandalorian e cyberpun...</td>\n",
       "      <td>0</td>\n",
       "    </tr>\n",
       "  </tbody>\n",
       "</table>\n",
       "</div>"
      ],
      "text/plain": [
       "                                               Teste  Classificação Manual\n",
       "0  #voxelart rt @voxeloficial: desenvolvedores de...                     1\n",
       "1  @sonicuzin não, cyberpunk vai lançar em 2077 ó...                     0\n",
       "2  rt @cpfuturosombrio: quando falamos que cyberp...                     1\n",
       "3  rt @alexzitoooo: graças a deus vou jogar o cyb...                     1\n",
       "4  acho que só vou esperar mandalorian e cyberpun...                     0"
      ]
     },
     "execution_count": 41,
     "metadata": {},
     "output_type": "execute_result"
    }
   ],
   "source": [
    "test = pd.read_excel(filename, sheet_name = 'Teste')\n",
    "test.head(5)"
   ]
  },
  {
   "cell_type": "markdown",
   "metadata": {},
   "source": [
    "___\n",
    "## Classificador automático de sentimento\n"
   ]
  },
  {
   "cell_type": "markdown",
   "metadata": {},
   "source": [
    "Faça aqui uma descrição do seu produto e o que considerou como relevante ou não relevante na classificação dos tweets.\n",
    "\n",
    "O produto escolhido foi o jogo Cyberpunk 2077, videogame em produção desde 2012 que será lançado no dia 19/11/2020 para as plataformas XBOX, PlayStation e PC. Consideramos como tweets relevantes aqueles que falaram bem a respeito do jogo."
   ]
  },
  {
   "cell_type": "markdown",
   "metadata": {},
   "source": [
    "___\n",
    "### Montando um Classificador Naive-Bayes\n",
    "\n",
    "Considerando apenas as mensagens da planilha Treinamento, ensine  seu classificador."
   ]
  },
  {
   "cell_type": "code",
   "execution_count": 42,
   "metadata": {},
   "outputs": [],
   "source": [
    "\n",
    "# ----- Função para a limpeza dos textos -----\n",
    "import re \n",
    "\n",
    "def cleanup(text):\n",
    "    punctuation = '''[@!?:\\n;\"'(){}/.,]'''\n",
    "    pattern = re.compile(punctuation)\n",
    "    text_subbed = re.sub(pattern, ' ', text)\n",
    "    return text_subbed\n",
    "# --------------------------------------------\n",
    "\n",
    "# ----- Transformador em Texto Corrido -----\n",
    "relevante = train.loc[train['Classificador de tweets'] == 1, ['Treinamento']]\n",
    "irrelevante = train.loc[train['Classificador de tweets'] == 0, ['Treinamento']]\n",
    "\n",
    "txt_rel = ''\n",
    "for i in np.arange(len(relevante['Treinamento'])):\n",
    "    txt_rel += relevante.iloc[i, 0]\n",
    "\n",
    "txt_irr = ''\n",
    "for i in np.arange(len(irrelevante['Treinamento'])):\n",
    "    txt_irr += irrelevante.iloc[i, 0]\n",
    "\n",
    "todas_palavras = txt_rel + txt_irr\n",
    "# -------------------------------------------\n",
    "\n",
    "# Listas de Palavras\n",
    "list_rel = cleanup(txt_rel).split()\n",
    "list_irr = cleanup(txt_irr).split()\n",
    "list_palavras = cleanup(todas_palavras).split()\n",
    "\n",
    "# Séries de Palavras\n",
    "serie_rel = pd.Series(list_rel)\n",
    "serie_irr = pd.Series(list_irr)\n",
    "serie_palavras = pd.Series(list_palavras)\n",
    "\n",
    "# Tabelas de Probabilidades Absolutas\n",
    "tabela_absoluta_rel = serie_rel.value_counts()\n",
    "tabela_absoluta_irr = serie_irr.value_counts()\n",
    "tabela_absoluta_palavras = serie_palavras.value_counts()\n",
    "\n",
    "# Tabelas de Probabilidades Relativas\n",
    "tabela_relativa_rel = serie_rel.value_counts(True)\n",
    "tabela_relativa_irr = serie_irr.value_counts(True)\n",
    "tabela_relativa_palavras = serie_palavras.value_counts(True)"
   ]
  },
  {
   "cell_type": "code",
   "execution_count": 43,
   "metadata": {},
   "outputs": [],
   "source": [
    "# ----- Função Classificadora de Tweets -----\n",
    "def classificador(texto):\n",
    "    texto_minusculo = texto.lower()\n",
    "    texto_limpo = (cleanup(texto_minusculo))\n",
    "    tweet_tokenizer = TweetTokenizer()\n",
    "    lista_palavras2 = tweet_tokenizer.tokenize(texto_limpo)\n",
    "\n",
    "    P_F_Rel = 1\n",
    "    P_F_Irr = 1\n",
    "    \n",
    "    # Verifica se todas as palavras de um tweet existem em suas respectivas listas de palavras\n",
    "    for i in lista_palavras2:\n",
    "        if i in list_rel:\n",
    "            verifica_lista_rel = True\n",
    "        else:\n",
    "            verifica_lista_rel = False\n",
    "            break\n",
    "    \n",
    "    for i in lista_palavras2:\n",
    "        if i in list_irr:\n",
    "            verifica_lista_irr = True\n",
    "        else:\n",
    "            verifica_lista_irr = False\n",
    "            break\n",
    "    \n",
    "    # Cálculo das Probabilidades - Relevantes\n",
    "    if verifica_lista_rel:\n",
    "        for i in lista_palavras2:\n",
    "            P_F_Rel = P_F_Rel*(tabela_relativa_rel[str(i)])\n",
    "    else:\n",
    "        # laplace Smoothing\n",
    "        for i in lista_palavras2:\n",
    "            if i in list_rel:\n",
    "                P_F_Rel = P_F_Rel*((tabela_absoluta_rel[str(i)]+1)/(len(tabela_absoluta_rel)+len(tabela_absoluta_palavras)))\n",
    "            else:\n",
    "                P_F_Rel = P_F_Rel*(1/(len(tabela_absoluta_rel)+len(tabela_absoluta_palavras)))\n",
    "\n",
    "    # Cálculo das Probabilidades - Irrelevante\n",
    "    if verifica_lista_irr:\n",
    "        for i in lista_palavras2:\n",
    "            P_F_Irr = P_F_Irr*(tabela_relativa_irr[str(i)])\n",
    "    else:\n",
    "        # Laplace Smoothing\n",
    "        for i in lista_palavras2:\n",
    "            if i in list_irr:\n",
    "                P_F_Irr = P_F_Irr*((tabela_absoluta_irr[str(i)]+1)/(len(tabela_absoluta_irr)+len(tabela_absoluta_palavras)))\n",
    "            else:\n",
    "                P_F_Irr = P_F_Irr*(1/(len(tabela_absoluta_irr)+len(tabela_absoluta_palavras)))\n",
    "    \n",
    "    # Resultado final\n",
    "    if P_F_Rel > P_F_Irr:\n",
    "        return(1)\n",
    "    else:\n",
    "        return(0)\n",
    "# -------------------------------------------"
   ]
  },
  {
   "cell_type": "markdown",
   "metadata": {},
   "source": [
    "___\n",
    "### Verificando a performance do Classificador\n",
    "\n",
    "Agora você deve testar o seu classificador com a base de Testes."
   ]
  },
  {
   "cell_type": "code",
   "execution_count": 44,
   "metadata": {},
   "outputs": [],
   "source": [
    "# ----- Atribuindo Classificação para os Tweets -----\n",
    "resultado = []\n",
    "for i in range(len(test)):\n",
    "    resultado.append(classificador(test.iloc[i, 0]))\n",
    "\n",
    "novo_test = test\n",
    "novo_test['Classificação por ML'] = resultado\n",
    "# ---------------------------------------------------"
   ]
  },
  {
   "cell_type": "code",
   "execution_count": 45,
   "metadata": {},
   "outputs": [],
   "source": [
    "# ----- Contabilizando e Comparando as Classificações -----\n",
    "verdadeiro_positivo = 0\n",
    "falso_positivo = 0\n",
    "verdadeiro_negativo = 0\n",
    "falso_negativo = 0\n",
    "\n",
    "for i in range(len(novo_test)):\n",
    "    if novo_test.iloc[i, 1] == 1:\n",
    "        if novo_test.iloc[i, 2] == 1:\n",
    "            verdadeiro_positivo += 1\n",
    "        else:\n",
    "            falso_negativo += 1\n",
    "    else:\n",
    "        if novo_test.iloc[i, 2] == 0:\n",
    "            falso_positivo += 1\n",
    "        else:\n",
    "            verdadeiro_negativo += 1\n",
    "# --------------------------------------------------------"
   ]
  },
  {
   "cell_type": "code",
   "execution_count": 46,
   "metadata": {},
   "outputs": [
    {
     "name": "stdout",
     "output_type": "stream",
     "text": [
      "\n",
      "Tweets classificados como:\n",
      "\n",
      "- Verdadeiros positivos: 61.5%\n",
      "- Falsos positivos: 1.5%\n",
      "- Verdadeiros negativos: 37.0%\n",
      "- Falsos negativos: 0.0%\n",
      "\n"
     ]
    }
   ],
   "source": [
    "# ----- Resultado Final -----\n",
    "print('''\n",
    "Tweets classificados como:\n",
    "\n",
    "- Verdadeiros positivos: {}%\n",
    "- Falsos positivos: {}%\n",
    "- Verdadeiros negativos: {}%\n",
    "- Falsos negativos: {}%\n",
    "'''.format(verdadeiro_positivo/2, falso_positivo/2, verdadeiro_negativo/2, falso_negativo/2))\n",
    "\n",
    "# O valor foi dividido por 2, porque estamos dividindo por 200 (número total de tweets) e \n",
    "# multiplicando por 100 (para colocar em porcentagem).\n",
    "\n",
    "# ---------------------------"
   ]
  },
  {
   "cell_type": "markdown",
   "metadata": {},
   "source": [
    "___\n",
    "### Concluindo"
   ]
  },
  {
   "cell_type": "markdown",
   "metadata": {},
   "source": [
    "Após realizar o trabalho, nós chegamos a conclusão de que o classificador de tweets foi um sucesso, já que entre todos os tweets analisados cerca de 98,5% foram corretamente analisados pelo classificador, enquanto apenas 1,5% dos tweets obtiveram uma análise incorreta. Esta ocorreu pois o classificador possui as suas falhas devido a simplicidade do mesmo, como por exemplo, a fraca interpretação de mensagens sarcásticas, já que em um dos tweets é dito que \"Cyberpunk só vai sair em 2077 mesmo, né?!\" e essa mensagem faz uma crítica aos inúmeros adiamentos para o lançamento do jogo, entretanto o classificador não consegue ter esta interpretação e atribuiu a esse tweet o valor \"relevante\", mesmo ele sendo classificado manualmente como irrelevante."
   ]
  },
  {
   "cell_type": "markdown",
   "metadata": {},
   "source": [
    "___\n",
    "## Aperfeiçoamento:\n",
    "\n",
    "Os trabalhos vão evoluir em conceito dependendo da quantidade de itens avançados:\n",
    "\n",
    "* Limpar: \\n, :, \", ', (, ), etc SEM remover emojis\n",
    "* Corrigir separação de espaços entre palavras e emojis ou entre emojis e emojis\n",
    "* Propor outras limpezas e transformações que não afetem a qualidade da informação ou classificação\n",
    "* Criar categorias intermediárias de relevância baseadas na probabilidade: ex.: muito relevante, relevante, neutro, irrelevante, muito irrelevante (3 categorias: C, mais categorias conta para B)\n",
    "* Explicar por que não posso usar o próprio classificador para gerar mais amostras de treinamento\n",
    "* Propor diferentes cenários para Naïve Bayes fora do contexto do projeto\n",
    "* Sugerir e explicar melhorias reais com indicações concretas de como implementar (indicar como fazer e indicar material de pesquisa)\n",
    "* Montar um dashboard que realiza análise de sentimento e visualiza estes dados"
   ]
  },
  {
   "cell_type": "markdown",
   "metadata": {},
   "source": [
    "___\n",
    "## Referências"
   ]
  },
  {
   "cell_type": "markdown",
   "metadata": {},
   "source": [
    "[Naive Bayes and Text Classification](https://arxiv.org/pdf/1410.5329.pdf)  **Mais completo**\n",
    "\n",
    "[A practical explanation of a Naive Bayes Classifier](https://monkeylearn.com/blog/practical-explanation-naive-bayes-classifier/) **Mais simples**"
   ]
  },
  {
   "cell_type": "code",
   "execution_count": null,
   "metadata": {},
   "outputs": [],
   "source": []
  }
 ],
 "metadata": {
  "kernelspec": {
   "display_name": "Python 3",
   "language": "python",
   "name": "python3"
  },
  "language_info": {
   "codemirror_mode": {
    "name": "ipython",
    "version": 3
   },
   "file_extension": ".py",
   "mimetype": "text/x-python",
   "name": "python",
   "nbconvert_exporter": "python",
   "pygments_lexer": "ipython3",
   "version": "3.7.4"
  }
 },
 "nbformat": 4,
 "nbformat_minor": 4
}
